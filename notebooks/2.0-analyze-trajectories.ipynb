{
 "cells": [
  {
   "cell_type": "markdown",
   "id": "3a53d69e",
   "metadata": {},
   "source": [
    "# Analyzing the results\n",
    "\n",
    "The analysis pipeline of the various trajectories saves the files in .csv format. The results can be read and aggregated using pandas.\n",
    "\n",
    "The selection of uncorrelated frames must happen after all observations have been loaded."
   ]
  },
  {
   "cell_type": "code",
   "execution_count": 1,
   "id": "729ccbdc",
   "metadata": {},
   "outputs": [],
   "source": [
    "import sys\n",
    "import os\n",
    "sys.path.insert(0, os.path.abspath('../src/'))\n",
    "from pathlib import Path"
   ]
  },
  {
   "cell_type": "code",
   "execution_count": 12,
   "id": "a15f2c9d",
   "metadata": {},
   "outputs": [],
   "source": [
    "import pandas as pd\n",
    "import numpy as np\n",
    "import re\n",
    "import pandas as pd\n",
    "import seaborn as sns\n",
    "import matplotlib.pyplot as plt\n",
    "import matplotlib as mpl\n",
    "from itertools import chain"
   ]
  },
  {
   "cell_type": "code",
   "execution_count": 13,
   "id": "7eb9c783",
   "metadata": {},
   "outputs": [],
   "source": [
    "proj = Path().absolute().parent\n",
    "path_data = proj / 'data/'\n",
    "input_dir = path_data / '03-processed/COM_twn'"
   ]
  },
  {
   "cell_type": "code",
   "execution_count": 14,
   "id": "64dd44e4",
   "metadata": {},
   "outputs": [],
   "source": [
    "# Functions needed to load data\n",
    "def get_details(input_dir):\n",
    "    \"\"\"Reobtain catenane properties from directory name\"\"\"\n",
    "    input_dir = Path(input_dir)\n",
    "    els = re.split('[MmnN\"Malt\"]', input_dir.name)\n",
    "    m = int(els[1])\n",
    "    n = int(els[2])\n",
    "    m_a = int(els[-1])\n",
    "    return m, n, m_a\n",
    "\n",
    "\n",
    "def load_obs(simdir):\n",
    "    \"\"\"Load observations (global)\"\"\"\n",
    "    fname = simdir.name +'_global_properties.csv'\n",
    "    df = pd.read_csv(simdir/fname)\n",
    "    m, n, m_a = get_details(simdir.name)\n",
    "    obs_cols = df.columns.to_list()\n",
    "    df['M'] = m\n",
    "    df['n'] = n\n",
    "    df['Malt'] = m_a\n",
    "    cols = ['M','n','Malt'] + obs_cols\n",
    "    return df[cols]"
   ]
  },
  {
   "cell_type": "code",
   "execution_count": 17,
   "id": "bb66d832",
   "metadata": {},
   "outputs": [
    {
     "name": "stdout",
     "output_type": "stream",
     "text": [
      "/Users/luca.tubiana/Projects/ring-o-rings/github-code/data/03-processed/COM_twn/M20n48Malt0\n",
      "/Users/luca.tubiana/Projects/ring-o-rings/github-code/data/03-processed/COM_twn/M20n48Malt8\n",
      "/Users/luca.tubiana/Projects/ring-o-rings/github-code/data/03-processed/COM_twn/M20n48Malt6\n",
      "/Users/luca.tubiana/Projects/ring-o-rings/github-code/data/03-processed/COM_twn/M20n48Malt4\n",
      "/Users/luca.tubiana/Projects/ring-o-rings/github-code/data/03-processed/COM_twn/M20n48Malt2\n",
      "/Users/luca.tubiana/Projects/ring-o-rings/github-code/data/03-processed/COM_twn/M20n48Malt10\n"
     ]
    }
   ],
   "source": [
    "#obs = pd.concat([load_obs(system) for system in input_dir.glob('M*')])\n",
    "l = []\n",
    "for sys in input_dir.glob('M*Ma*'):\n",
    "    try:\n",
    "        print(sys)\n",
    "        l.append(load_obs(sys))\n",
    "    except Exception as e:\n",
    "        print(f\"Error {e} in dir {sys} - SKIPPING\")\n",
    "        continue\n",
    "obs = pd.concat(l,ignore_index=True)\n",
    "obs['resc_rg2'] = obs['rg2'] / (obs['n']**2) * np.pi * np.pi #  rescale rg by the nominal rings' diameter"
   ]
  },
  {
   "cell_type": "markdown",
   "id": "ff14e6c4",
   "metadata": {},
   "source": [
    "# Notation\n",
    "As specified in notebook 1.0, the notation is slightly different from the one used in our manuscript. Specifically\n",
    "- $n$ -> $M$\n",
    "- $m$ - > $n$\n",
    "- $n_{tw}$ -> $M_{alt}$\n",
    "\n",
    "In the following each combination of `M`, `n` and `Malt` identify a trajectory and each line correspond to a frame in the trajectory. \n",
    "- `frame` refers to the frame of the snapshot in units of $10^6 \\tau_{int} = 10^6 * 0.0124 \\tau_{LJ}$,\n",
    "- `rg2` is the squared radius of gyration of the catenane,\n",
    "- `resc_rg2` is `rg2` rescaled by the nominal diameter of the elementary ring,\n",
    "- `twist` is the total twist of the catenane,\n",
    "- `writhe` is the total writhe of the catenane,\n",
    "- `C_norm_d` is the correlation between norms separated by $i$ bonds, $|\\mathbf{\\hat{N}}_k\\cdot\\mathbf{\\hat{N}}_{k+d}|$,\n",
    "- `C_tan_d` is $\\mathbf{\\hat{T}}_k\\cdot\\mathbf{\\hat{T}}_{k+d}$ (unused)"
   ]
  },
  {
   "cell_type": "code",
   "execution_count": 20,
   "id": "7fca8097",
   "metadata": {},
   "outputs": [
    {
     "data": {
      "text/html": [
       "<div>\n",
       "<style scoped>\n",
       "    .dataframe tbody tr th:only-of-type {\n",
       "        vertical-align: middle;\n",
       "    }\n",
       "\n",
       "    .dataframe tbody tr th {\n",
       "        vertical-align: top;\n",
       "    }\n",
       "\n",
       "    .dataframe thead th {\n",
       "        text-align: right;\n",
       "    }\n",
       "</style>\n",
       "<table border=\"1\" class=\"dataframe\">\n",
       "  <thead>\n",
       "    <tr style=\"text-align: right;\">\n",
       "      <th></th>\n",
       "      <th>M</th>\n",
       "      <th>n</th>\n",
       "      <th>Malt</th>\n",
       "      <th>frame</th>\n",
       "      <th>rg2</th>\n",
       "      <th>twist</th>\n",
       "      <th>writhe</th>\n",
       "      <th>contour_length</th>\n",
       "      <th>C_tan_1</th>\n",
       "      <th>C_tan_2</th>\n",
       "      <th>...</th>\n",
       "      <th>C_norm_12</th>\n",
       "      <th>C_norm_13</th>\n",
       "      <th>C_norm_14</th>\n",
       "      <th>C_norm_15</th>\n",
       "      <th>C_norm_16</th>\n",
       "      <th>C_norm_17</th>\n",
       "      <th>C_norm_18</th>\n",
       "      <th>C_norm_19</th>\n",
       "      <th>collinearity</th>\n",
       "      <th>resc_rg2</th>\n",
       "    </tr>\n",
       "  </thead>\n",
       "  <tbody>\n",
       "    <tr>\n",
       "      <th>0</th>\n",
       "      <td>20</td>\n",
       "      <td>48</td>\n",
       "      <td>0</td>\n",
       "      <td>0</td>\n",
       "      <td>1332.862617</td>\n",
       "      <td>0.016304</td>\n",
       "      <td>-0.016304</td>\n",
       "      <td>244.553425</td>\n",
       "      <td>117.462991</td>\n",
       "      <td>102.997355</td>\n",
       "      <td>...</td>\n",
       "      <td>0.534982</td>\n",
       "      <td>0.562941</td>\n",
       "      <td>0.297771</td>\n",
       "      <td>0.422083</td>\n",
       "      <td>0.416961</td>\n",
       "      <td>0.463214</td>\n",
       "      <td>0.568393</td>\n",
       "      <td>0.392811</td>\n",
       "      <td>0.406302</td>\n",
       "      <td>5.709560</td>\n",
       "    </tr>\n",
       "    <tr>\n",
       "      <th>1</th>\n",
       "      <td>20</td>\n",
       "      <td>48</td>\n",
       "      <td>0</td>\n",
       "      <td>1</td>\n",
       "      <td>332.108871</td>\n",
       "      <td>-0.279788</td>\n",
       "      <td>0.279788</td>\n",
       "      <td>181.769897</td>\n",
       "      <td>33.703859</td>\n",
       "      <td>15.375862</td>\n",
       "      <td>...</td>\n",
       "      <td>0.476488</td>\n",
       "      <td>0.515660</td>\n",
       "      <td>0.434910</td>\n",
       "      <td>0.546840</td>\n",
       "      <td>0.548871</td>\n",
       "      <td>0.531834</td>\n",
       "      <td>0.525296</td>\n",
       "      <td>0.363836</td>\n",
       "      <td>3.023353</td>\n",
       "      <td>1.422649</td>\n",
       "    </tr>\n",
       "    <tr>\n",
       "      <th>2</th>\n",
       "      <td>20</td>\n",
       "      <td>48</td>\n",
       "      <td>0</td>\n",
       "      <td>2</td>\n",
       "      <td>388.052330</td>\n",
       "      <td>0.313941</td>\n",
       "      <td>-0.313941</td>\n",
       "      <td>196.216538</td>\n",
       "      <td>35.955247</td>\n",
       "      <td>10.230299</td>\n",
       "      <td>...</td>\n",
       "      <td>0.581350</td>\n",
       "      <td>0.486140</td>\n",
       "      <td>0.372091</td>\n",
       "      <td>0.655807</td>\n",
       "      <td>0.465185</td>\n",
       "      <td>0.623940</td>\n",
       "      <td>0.451195</td>\n",
       "      <td>0.365103</td>\n",
       "      <td>2.718519</td>\n",
       "      <td>1.662293</td>\n",
       "    </tr>\n",
       "    <tr>\n",
       "      <th>3</th>\n",
       "      <td>20</td>\n",
       "      <td>48</td>\n",
       "      <td>0</td>\n",
       "      <td>3</td>\n",
       "      <td>415.750055</td>\n",
       "      <td>-0.396757</td>\n",
       "      <td>0.396757</td>\n",
       "      <td>197.853775</td>\n",
       "      <td>33.436351</td>\n",
       "      <td>21.341401</td>\n",
       "      <td>...</td>\n",
       "      <td>0.598448</td>\n",
       "      <td>0.530427</td>\n",
       "      <td>0.439267</td>\n",
       "      <td>0.500243</td>\n",
       "      <td>0.579881</td>\n",
       "      <td>0.418992</td>\n",
       "      <td>0.478817</td>\n",
       "      <td>0.437399</td>\n",
       "      <td>2.354529</td>\n",
       "      <td>1.780941</td>\n",
       "    </tr>\n",
       "    <tr>\n",
       "      <th>4</th>\n",
       "      <td>20</td>\n",
       "      <td>48</td>\n",
       "      <td>0</td>\n",
       "      <td>4</td>\n",
       "      <td>419.101438</td>\n",
       "      <td>0.151298</td>\n",
       "      <td>-0.151298</td>\n",
       "      <td>198.273064</td>\n",
       "      <td>18.481536</td>\n",
       "      <td>15.774130</td>\n",
       "      <td>...</td>\n",
       "      <td>0.569657</td>\n",
       "      <td>0.463486</td>\n",
       "      <td>0.526712</td>\n",
       "      <td>0.482722</td>\n",
       "      <td>0.311605</td>\n",
       "      <td>0.562539</td>\n",
       "      <td>0.537913</td>\n",
       "      <td>0.424217</td>\n",
       "      <td>2.213203</td>\n",
       "      <td>1.795297</td>\n",
       "    </tr>\n",
       "  </tbody>\n",
       "</table>\n",
       "<p>5 rows × 48 columns</p>\n",
       "</div>"
      ],
      "text/plain": [
       "    M   n  Malt  frame          rg2     twist    writhe  contour_length  \\\n",
       "0  20  48     0      0  1332.862617  0.016304 -0.016304      244.553425   \n",
       "1  20  48     0      1   332.108871 -0.279788  0.279788      181.769897   \n",
       "2  20  48     0      2   388.052330  0.313941 -0.313941      196.216538   \n",
       "3  20  48     0      3   415.750055 -0.396757  0.396757      197.853775   \n",
       "4  20  48     0      4   419.101438  0.151298 -0.151298      198.273064   \n",
       "\n",
       "      C_tan_1     C_tan_2  ...  C_norm_12  C_norm_13  C_norm_14  C_norm_15  \\\n",
       "0  117.462991  102.997355  ...   0.534982   0.562941   0.297771   0.422083   \n",
       "1   33.703859   15.375862  ...   0.476488   0.515660   0.434910   0.546840   \n",
       "2   35.955247   10.230299  ...   0.581350   0.486140   0.372091   0.655807   \n",
       "3   33.436351   21.341401  ...   0.598448   0.530427   0.439267   0.500243   \n",
       "4   18.481536   15.774130  ...   0.569657   0.463486   0.526712   0.482722   \n",
       "\n",
       "   C_norm_16  C_norm_17  C_norm_18  C_norm_19  collinearity  resc_rg2  \n",
       "0   0.416961   0.463214   0.568393   0.392811      0.406302  5.709560  \n",
       "1   0.548871   0.531834   0.525296   0.363836      3.023353  1.422649  \n",
       "2   0.465185   0.623940   0.451195   0.365103      2.718519  1.662293  \n",
       "3   0.579881   0.418992   0.478817   0.437399      2.354529  1.780941  \n",
       "4   0.311605   0.562539   0.537913   0.424217      2.213203  1.795297  \n",
       "\n",
       "[5 rows x 48 columns]"
      ]
     },
     "execution_count": 20,
     "metadata": {},
     "output_type": "execute_result"
    }
   ],
   "source": [
    "obs.head()"
   ]
  },
  {
   "cell_type": "code",
   "execution_count": null,
   "id": "1087d00e",
   "metadata": {},
   "outputs": [],
   "source": []
  },
  {
   "cell_type": "markdown",
   "id": "3c294e23",
   "metadata": {},
   "source": [
    "# Example: Twist + Writhe\n",
    "In the example below we sum twist and writhe and compute their integer and fractional part, demonstrating that $Tw+Wr\\in \\mathbb{Z}$ for every conformation.\n"
   ]
  },
  {
   "cell_type": "code",
   "execution_count": 19,
   "id": "b24e7ee7",
   "metadata": {},
   "outputs": [],
   "source": [
    "tw_p_wr = obs.twist + obs.writhe"
   ]
  },
  {
   "cell_type": "code",
   "execution_count": 21,
   "id": "20430f96",
   "metadata": {},
   "outputs": [],
   "source": [
    "frac, intg = np.modf(tw_p_wr) # return fractional and integer parts"
   ]
  },
  {
   "cell_type": "markdown",
   "id": "af5fa537",
   "metadata": {},
   "source": [
    "Since the fractional part can often be 0.999999, we need to rescale it so that is included between $\\left[-0.5,0.5\\right]$"
   ]
  },
  {
   "cell_type": "code",
   "execution_count": 25,
   "id": "cdb961ca",
   "metadata": {},
   "outputs": [],
   "source": [
    "frac[frac>0.5] = 1.-frac[frac>0.5]\n",
    "frac[frac<-0.5] = 1.+frac[frac<-0.5]"
   ]
  },
  {
   "cell_type": "markdown",
   "id": "389ec9e9",
   "metadata": {},
   "source": [
    "The results clearly demonstrate that $Tw+Wr\\in \\mathbb{Z}$ aside for numerical errors:"
   ]
  },
  {
   "cell_type": "code",
   "execution_count": 34,
   "id": "cc99d9ed",
   "metadata": {},
   "outputs": [
    {
     "name": "stdout",
     "output_type": "stream",
     "text": [
      "\n",
      "Maximum deviation: 5.76e-12 \n",
      "Average deviation: 1.41e-14 \n",
      "Standard deviation: 1.40e-13\n",
      "\n"
     ]
    }
   ],
   "source": [
    "print(f\"\"\"\n",
    "Maximum deviation: {np.abs(frac).max():.2e} \n",
    "Average deviation: {frac.mean():.2e} \n",
    "Standard deviation: {frac.std():.2e}\n",
    "\"\"\")"
   ]
  },
  {
   "cell_type": "code",
   "execution_count": null,
   "id": "db575c39",
   "metadata": {},
   "outputs": [],
   "source": []
  }
 ],
 "metadata": {
  "kernelspec": {
   "display_name": "Python 3 (ipykernel)",
   "language": "python",
   "name": "python3"
  },
  "language_info": {
   "codemirror_mode": {
    "name": "ipython",
    "version": 3
   },
   "file_extension": ".py",
   "mimetype": "text/x-python",
   "name": "python",
   "nbconvert_exporter": "python",
   "pygments_lexer": "ipython3",
   "version": "3.8.12"
  }
 },
 "nbformat": 4,
 "nbformat_minor": 5
}
